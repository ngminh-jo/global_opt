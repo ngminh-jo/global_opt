{
 "cells": [
  {
   "cell_type": "markdown",
   "id": "3e65f067",
   "metadata": {},
   "source": [
    "# Sonderübung 2"
   ]
  },
  {
   "cell_type": "markdown",
   "id": "79d1dffb",
   "metadata": {},
   "source": [
    "## Aufgabe 1\n",
    "Gegeben sei das Optimierungsproblem \n",
    "$LP: \\min_{x\\in \\mathbb{R}^n} \\quad c^Tx \\quad s.t. \\quad Ax \\leq b$"
   ]
  },
  {
   "cell_type": "markdown",
   "id": "1eeee0cb",
   "metadata": {},
   "source": [
    "### a) Wolfe Dual\n",
    "Anwedung von Definition 2.7.5. Voraussetzung ist, dass P konvex beschrieben und $C^1$.\n",
    "- Zielfunktion $f(x)= c^Tx$ ist linear und somit konvex und $C^1$.\n",
    "- Nebenbedingung $Ax \\leq b$ ist ebenfalls linear und somit konvex und $C^1$. \n",
    "\n",
    "$\\implies$ Wolfe Dual aus 2.7.5 kann angewandt werden.\n",
    "\n",
    "$$\n",
    "D: \\quad \\max_{x,\\lambda} \\quad L (x,\\lambda) = c^Tx + \\lambda(Ax-b) \\quad s.t. \\quad \\nabla_x L(x,\\lambda) = c^T + \\lambda A = 0, \\quad \\lambda \\geq 0\n",
    "$$\n",
    "mit $M_D = \\{ (x, \\lambda) \\in \\mathbb{R}^n \\times \\mathbb{R}^m | c + \\lambda A = 0, \\lambda \\geq 0 \\}$ und seinen Maximalwerten $v_D = sup_{(x,\\lambda)\\in M_D} L(x,\\lambda)$."
   ]
  },
  {
   "cell_type": "markdown",
   "id": "898845ad",
   "metadata": {},
   "source": [
    "\n",
    "### b) Zeige Übereinstimmung zu $D_{LP}$\n",
    "$$\n",
    " D_{LP}: \\quad \\max_{\\lambda \\in \\mathbb{R}^m} \\quad b^T \\lambda \\quad s.t. \\quad A^T \\lambda = c, \\quad \\lambda \\leq 0\n",
    "$$\n",
    "\n",
    "mit $M_{LP} = \\{ (\\lambda) \\in \\mathbb{R}^m | A^T \\lambda = c, \\quad \\lambda \\leq 0 \\}$.\n",
    "\n",
    "Die beiden Optimierungsprobleme stimmen überein, wenn optimal Punkte und deren optimal Werte übereinstimmen.\n",
    "\n"
   ]
  },
  {
   "cell_type": "markdown",
   "id": "a104f67d",
   "metadata": {},
   "source": [
    "Zuerst lösen wir das Maximierungsproblem D:"
   ]
  },
  {
   "cell_type": "markdown",
   "id": "e4ba983d",
   "metadata": {},
   "source": [
    "Aus der Nebenbedingung geht hervor das:\n",
    "$$c^T + \\lambda A = 0 \\iff \\lambda A = - c^T \\iff \\lambda = -c^T A^{-1} $$\n",
    " Das geht nur unter der Annahme, dass die Inverse von A existiert. Die Inverse existiert genau dann, wenn A eine symmetrische Matrix ist und einen vollen Rang hat. Somit nehmen wir für das Folgende an, das $m=n$ und somit $A \\in \\mathbb{R}^{n\\times n}$."
   ]
  },
  {
   "cell_type": "markdown",
   "id": "ddaa00cd",
   "metadata": {},
   "source": [
    "Zusätzlich muss gelten, dass $\\lambda \\geq 0$ und somit nehmen wir an das $-c^T A^{-1} \\geq 0$. "
   ]
  },
  {
   "cell_type": "markdown",
   "id": "f21c1db8",
   "metadata": {},
   "source": [
    "Daraus ergibt sich ein neues äquivalentes Optimierungsproblem $D'$:\n",
    "$$ D': \\max_ x \\quad L(x) = c^Tx - c^T A^{-1}(Ax - b) =  c^Tx - c^T A^{-1}Ax +c^T A^{-1}b = c^T A^{-1}b$$"
   ]
  },
  {
   "cell_type": "markdown",
   "id": "65b02977",
   "metadata": {},
   "source": [
    "Wir beobachten, dass die neue Zielfunktion unabhängig von x ist. Somit ist unser optimal Wert des Optimierungsproblems $v_D=c^T A^{-1}b = \\langle c, A^{-1},b \\rangle \\quad \\forall x $. \n",
    "\n"
   ]
  },
  {
   "cell_type": "markdown",
   "id": "28c0bba5",
   "metadata": {},
   "source": [
    "Nun betrachten wir das Maximierungsproblem $D_{LP}$."
   ]
  },
  {
   "cell_type": "markdown",
   "id": "22a6a078",
   "metadata": {},
   "source": [
    "Aus der Nebenbedingung geht hervor das:\n",
    "    $$A^T \\lambda = c \\iff \\lambda = (A^T)^{-1}c$$\n",
    " und $\\lambda \\leq 0$.\n",
    " Dies ist erfüllt, da wir vorhin angenommen $-c^T A^{-1} \\geq 0$ und es folgt:\n",
    " $$-c^T A^{-1} \\geq 0 \\iff c^T A^{-1} \\leq 0 \\iff (c^T A^{-1})^T \\leq 0 \\iff (A^{-1})^T c \\leq 0 \\iff (A^T)^{-1} c \\leq 0 \\iff \\lambda \\leq 0$$"
   ]
  },
  {
   "cell_type": "markdown",
   "id": "ba49c01c",
   "metadata": {},
   "source": [
    "Somit können wir durch einsetzen von $\\lambda$ ein neues äquivalentes Maximierungsproblem aufstellen:\n",
    "$$\n",
    " D'_{LP}: \\quad \\max_{\\lambda \\in \\mathbb{R}^m} \\quad b^T (A^T)^{-1}c\n",
    "$$"
   ]
  },
  {
   "cell_type": "markdown",
   "id": "7f8441bb",
   "metadata": {},
   "source": [
    "Die Zielfunktion ist wiederum unabhängig von $\\lambda$ und somit gilt:\n",
    "$$ v_{LP} = b^T (A^T)^{-1}c = \\langle c, A^{-1},b \\rangle \\quad \\forall \\lambda$$"
   ]
  },
  {
   "cell_type": "markdown",
   "id": "fc1bab51",
   "metadata": {},
   "source": [
    "Daraus folgt: $v_D = v_{LP} = \\langle c, A^{-1},b \\rangle$. Die optimal Werte beider Optimierungsprobleme stimmen überein. "
   ]
  },
  {
   "cell_type": "markdown",
   "id": "05b8366f",
   "metadata": {},
   "source": [
    "So auch ihre optimal Punkte, denn für alle $x$ bzw. alle $\\lambda$ erhalten wird den optimalen Wert."
   ]
  },
  {
   "cell_type": "markdown",
   "id": "08105629",
   "metadata": {},
   "source": [
    "## Aufgabe 2\n",
    "$$\n",
    "    P : \\min_x \\quad  - \\mu^T x + \\frac{1}{2} \\lambda x^T \\Sigma x \\quad s.t. \\quad e^Tx = 1, \\quad x \\geq 0\n",
    "$$\n",
    "### a) P ist konvex und M ist kompakt\n",
    "Behauptung: P ist konvex\n",
    "\n",
    "Beweis:\n",
    "- Zielfunktion f(x) ist konvex nach der $C^2$ Charakterisierung:\n",
    "$$f(x) =  - \\mu^T x + \\frac{1}{2} \\lambda x^T \\Sigma x$$\n",
    "$$f'(x)= - \\mu + \\lambda \\Sigma^T x $$\n",
    "$$f''(x)= \\lambda \\Sigma \\succeq 0$$\n",
    "da $\\lambda \\geq 0$ und $\\Sigma \\succeq 0$.\n",
    "-Die Menge M ist konvex:\n",
    "\n",
    "    Sei $x,y \\in M$. Dann  gilt $e^Tx=1$ und $e^T y =1$ und $x,y \\geq 0$. Damit M konvex ist muss für $ \\forall \\lambda \\in (0,1)$ auch:\n",
    "$$e^T(\\lambda x + (1-\\lambda)y) = 1$$ \n",
    "$$e^T(\\lambda x + e^Ty-e^T\\lambda y) = \\lambda(e^Tx - e^Ty)+   e^Ty  =\\lambda(1-1)+1 = 1 $$\n",
    "\n",
    "Behauptung: M ist kompakt\n",
    "\n",
    "Beweis:\n",
    "\n",
    "- M ist abgeschlossen\n",
    "\n",
    "    Sei $(x^k)$ eine beliebige Folge in M. Dann gilt:\n",
    "    $$e^T x^k = 1 \\quad und \\quad x^k \\geq 0\\forall k \\in \\mathbb{N}$$\n",
    "d.h $\\lim_{k \\to \\infty} e^T x^k = 1 \\iff e^T  \\lim_{k \\to \\infty} x^k = 1 \\iff \\lim_{k \\to \\infty} x^k \\in M  $ \n",
    "- M ist beschränkt\n",
    "    $$\\forall x \\in M: \\quad \\|x \\|_1^2= e^Tx = 1 < \\infty$$"
   ]
  },
  {
   "cell_type": "markdown",
   "id": "2feb219a",
   "metadata": {},
   "source": [
    "## Imports"
   ]
  },
  {
   "cell_type": "code",
   "execution_count": 2,
   "id": "63e33f4d",
   "metadata": {},
   "outputs": [],
   "source": [
    "import numpy as np\n",
    "from matplotlib import pyplot as plt\n",
    "import pandas as pd\n",
    "from gurobipy import *"
   ]
  },
  {
   "cell_type": "markdown",
   "id": "77cc53b8",
   "metadata": {},
   "source": [
    "### Achtung: \n",
    "die untenstehenden Befehle funktionieren nur mit einer aktuellen pandas Version: falls beim pandas.drop() Befehl, ein Fehler auftritt , dann schauen, dass pandas geupdated wird zb über \"pip install pandas --upgrade\" (Version 1.4.2. funktioniert), danach das Notebook komplett neustarten und nicht nur die Importzelle neu ausführen"
   ]
  },
  {
   "cell_type": "markdown",
   "id": "9dd8d1e7",
   "metadata": {},
   "source": [
    "## Parameter für das Optimierungsproblem"
   ]
  },
  {
   "cell_type": "code",
   "execution_count": 3,
   "id": "5ac4e65d",
   "metadata": {},
   "outputs": [],
   "source": [
    "shares = ['AAPL', 'MSFT', 'XOM', 'JNJ', 'GE', 'BRK-B', 'FB', \n",
    "          'AMZN', 'WFC','T','GOOGL','PG','GOOG','VZ','PFE',\n",
    "          'CVX','KO','HD','DIS','BAC','MRK','V','PM','CMCSA',\n",
    "          'INTC','PEP','CSCO','C','GILD','IBM']"
   ]
  },
  {
   "cell_type": "code",
   "execution_count": 4,
   "id": "5d2a392b",
   "metadata": {},
   "outputs": [],
   "source": [
    "historical_prices = pd.read_excel('historical_prices.xlsx', index_col=0)\n",
    "historical_returns = historical_prices / historical_prices.shift(1) - 1\n",
    "historical_returns = historical_returns.drop(['2015-05-13'])\n",
    "mu = historical_returns.mean()*252 # Estimation of mu\n",
    "sigma = historical_returns.cov()*252 # Estimation of covariance-matrix"
   ]
  },
  {
   "cell_type": "code",
   "execution_count": 5,
   "id": "0366f8b7",
   "metadata": {},
   "outputs": [
    {
     "data": {
      "text/html": [
       "<div>\n",
       "<style scoped>\n",
       "    .dataframe tbody tr th:only-of-type {\n",
       "        vertical-align: middle;\n",
       "    }\n",
       "\n",
       "    .dataframe tbody tr th {\n",
       "        vertical-align: top;\n",
       "    }\n",
       "\n",
       "    .dataframe thead th {\n",
       "        text-align: right;\n",
       "    }\n",
       "</style>\n",
       "<table border=\"1\" class=\"dataframe\">\n",
       "  <thead>\n",
       "    <tr style=\"text-align: right;\">\n",
       "      <th></th>\n",
       "      <th>AAPL</th>\n",
       "      <th>MSFT</th>\n",
       "      <th>XOM</th>\n",
       "      <th>JNJ</th>\n",
       "      <th>GE</th>\n",
       "      <th>BRK-B</th>\n",
       "      <th>FB</th>\n",
       "      <th>AMZN</th>\n",
       "    </tr>\n",
       "  </thead>\n",
       "  <tbody>\n",
       "    <tr>\n",
       "      <th>AAPL</th>\n",
       "      <td>0.077915</td>\n",
       "      <td>0.045575</td>\n",
       "      <td>0.031541</td>\n",
       "      <td>0.020971</td>\n",
       "      <td>0.028955</td>\n",
       "      <td>0.027391</td>\n",
       "      <td>0.040927</td>\n",
       "      <td>0.040994</td>\n",
       "    </tr>\n",
       "    <tr>\n",
       "      <th>MSFT</th>\n",
       "      <td>0.045575</td>\n",
       "      <td>0.072776</td>\n",
       "      <td>0.027717</td>\n",
       "      <td>0.025104</td>\n",
       "      <td>0.032222</td>\n",
       "      <td>0.029367</td>\n",
       "      <td>0.048484</td>\n",
       "      <td>0.051320</td>\n",
       "    </tr>\n",
       "    <tr>\n",
       "      <th>XOM</th>\n",
       "      <td>0.031541</td>\n",
       "      <td>0.027717</td>\n",
       "      <td>0.059183</td>\n",
       "      <td>0.022321</td>\n",
       "      <td>0.028922</td>\n",
       "      <td>0.027715</td>\n",
       "      <td>0.024145</td>\n",
       "      <td>0.024970</td>\n",
       "    </tr>\n",
       "    <tr>\n",
       "      <th>JNJ</th>\n",
       "      <td>0.020971</td>\n",
       "      <td>0.025104</td>\n",
       "      <td>0.022321</td>\n",
       "      <td>0.026636</td>\n",
       "      <td>0.019970</td>\n",
       "      <td>0.021105</td>\n",
       "      <td>0.022804</td>\n",
       "      <td>0.023365</td>\n",
       "    </tr>\n",
       "    <tr>\n",
       "      <th>GE</th>\n",
       "      <td>0.028955</td>\n",
       "      <td>0.032222</td>\n",
       "      <td>0.028922</td>\n",
       "      <td>0.019970</td>\n",
       "      <td>0.043824</td>\n",
       "      <td>0.026067</td>\n",
       "      <td>0.029822</td>\n",
       "      <td>0.028163</td>\n",
       "    </tr>\n",
       "    <tr>\n",
       "      <th>BRK-B</th>\n",
       "      <td>0.027391</td>\n",
       "      <td>0.029367</td>\n",
       "      <td>0.027715</td>\n",
       "      <td>0.021105</td>\n",
       "      <td>0.026067</td>\n",
       "      <td>0.031443</td>\n",
       "      <td>0.026365</td>\n",
       "      <td>0.025164</td>\n",
       "    </tr>\n",
       "    <tr>\n",
       "      <th>FB</th>\n",
       "      <td>0.040927</td>\n",
       "      <td>0.048484</td>\n",
       "      <td>0.024145</td>\n",
       "      <td>0.022804</td>\n",
       "      <td>0.029822</td>\n",
       "      <td>0.026365</td>\n",
       "      <td>0.106992</td>\n",
       "      <td>0.075159</td>\n",
       "    </tr>\n",
       "    <tr>\n",
       "      <th>AMZN</th>\n",
       "      <td>0.040994</td>\n",
       "      <td>0.051320</td>\n",
       "      <td>0.024970</td>\n",
       "      <td>0.023365</td>\n",
       "      <td>0.028163</td>\n",
       "      <td>0.025164</td>\n",
       "      <td>0.075159</td>\n",
       "      <td>0.121713</td>\n",
       "    </tr>\n",
       "  </tbody>\n",
       "</table>\n",
       "</div>"
      ],
      "text/plain": [
       "           AAPL      MSFT       XOM       JNJ        GE     BRK-B        FB  \\\n",
       "AAPL   0.077915  0.045575  0.031541  0.020971  0.028955  0.027391  0.040927   \n",
       "MSFT   0.045575  0.072776  0.027717  0.025104  0.032222  0.029367  0.048484   \n",
       "XOM    0.031541  0.027717  0.059183  0.022321  0.028922  0.027715  0.024145   \n",
       "JNJ    0.020971  0.025104  0.022321  0.026636  0.019970  0.021105  0.022804   \n",
       "GE     0.028955  0.032222  0.028922  0.019970  0.043824  0.026067  0.029822   \n",
       "BRK-B  0.027391  0.029367  0.027715  0.021105  0.026067  0.031443  0.026365   \n",
       "FB     0.040927  0.048484  0.024145  0.022804  0.029822  0.026365  0.106992   \n",
       "AMZN   0.040994  0.051320  0.024970  0.023365  0.028163  0.025164  0.075159   \n",
       "\n",
       "           AMZN  \n",
       "AAPL   0.040994  \n",
       "MSFT   0.051320  \n",
       "XOM    0.024970  \n",
       "JNJ    0.023365  \n",
       "GE     0.028163  \n",
       "BRK-B  0.025164  \n",
       "FB     0.075159  \n",
       "AMZN   0.121713  "
      ]
     },
     "execution_count": 5,
     "metadata": {},
     "output_type": "execute_result"
    }
   ],
   "source": [
    "sigma.iloc[0:8,0:8]"
   ]
  },
  {
   "cell_type": "code",
   "execution_count": 6,
   "id": "605ab57f",
   "metadata": {},
   "outputs": [],
   "source": [
    "Sigma = sigma.values\n",
    "Mu = mu.values\n",
    "lamb = 10\n",
    "n = Mu.size"
   ]
  },
  {
   "cell_type": "markdown",
   "id": "f8db6b6b",
   "metadata": {},
   "source": [
    "## Aufgabe 2 b) \n",
    "Zeigen Sie, dass die Zielfunktion von $P$ mit den gegebenen Daten $\\Sigma, \\mu$ und $\\lambda$ gleichmäßig konvex ist."
   ]
  },
  {
   "cell_type": "code",
   "execution_count": 7,
   "id": "2fd8f3a2",
   "metadata": {},
   "outputs": [],
   "source": [
    "from numpy import linalg as LA\n",
    "from scipy.optimize import minimize\n",
    "from scipy.optimize import Bounds\n",
    "from scipy.optimize import NonlinearConstraint\n",
    "\n",
    "import random"
   ]
  },
  {
   "cell_type": "markdown",
   "id": "e14f1897",
   "metadata": {},
   "source": [
    "Nach 2.5.10 Satz (C2-Charakterisierung von gleichmäßiger Konvexität).\n",
    "Wir brechen die Eigenwerte von $D^{2}(f(x)) = \\lambda\\Sigma$ und zeigen der kleinste Eigenwert größer null ist. "
   ]
  },
  {
   "cell_type": "code",
   "execution_count": 8,
   "id": "115906bc",
   "metadata": {},
   "outputs": [
    {
     "name": "stdout",
     "output_type": "stream",
     "text": [
      "gleichmäßig konvex with the smallest eigenvalue\n"
     ]
    },
    {
     "data": {
      "text/plain": [
       "0.00778837301743193"
      ]
     },
     "execution_count": 8,
     "metadata": {},
     "output_type": "execute_result"
    }
   ],
   "source": [
    "def test_gleichmaeßig_konvex(matrix):\n",
    "    w,v = LA.eig(matrix)\n",
    "    if (np.min(w) > 0): \n",
    "        print (f\"gleichmäßig konvex with the smallest eigenvalue\")\n",
    "        return np.min(w)\n",
    "    else:\n",
    "        print (f\" not gleichmäßig konvex\")\n",
    "D_2_fx = lamb * Sigma\n",
    "test_gleichmaeßig_konvex(D_2_fx)"
   ]
  },
  {
   "cell_type": "markdown",
   "id": "1ecec7db",
   "metadata": {},
   "source": [
    "Mit $c= 0.006$ gilt $c>0$ und $\\lambda \\geq c$ und daraus folgt die gleichmäßige konvexität von f."
   ]
  },
  {
   "cell_type": "markdown",
   "id": "be125c7f",
   "metadata": {},
   "source": [
    "## 2 c) Frank Wolfe\n",
    "Implementieren Sie das Verfahren aus dem Algorithmus auf dem Aufgabenblatt. Geben Sie am Ende aus, wie viel in welche Aktien investiert wird. Beachten Sie die Hinweise auf dem Aufgabenblatt."
   ]
  },
  {
   "cell_type": "code",
   "execution_count": 9,
   "id": "bf9d15a1",
   "metadata": {},
   "outputs": [],
   "source": [
    "eps = 1e-4\n",
    "def get_element_inM(n):\n",
    "    a = np.random.rand(n,1)\n",
    "    x_0 = (a/a.sum(axis=0,keepdims=1)).flatten()\n",
    "    return x_0\n",
    "def func_min(x):\n",
    "    tem_ = (np.dot(-Mu.transpose(), x) + \n",
    "            0.5*lamb* np.dot(x.transpose(),\n",
    "                             np.dot(Sigma,x)))                                                      \n",
    "    return tem_\n",
    "def gradien_func_min(x):\n",
    "    return -Mu + lamb* np.dot(Sigma,x)\n",
    "def problem_S(x_k,d_k):\n",
    "    ''' return: t^k \n",
    "    '''\n",
    "    fun = lambda t: func_min(x_k + t*d_k)\n",
    "    bounds = Bounds(0+eps, 1- eps)\n",
    "    t0 = random.uniform(0, 1)\n",
    "    res = minimize(fun,t0, method='Nelder-Mead',\n",
    "                   bounds= bounds, tol=eps)\n",
    "    return res.x.flatten()[0]\n",
    "def problem_Q(xk):\n",
    "    '''return min_punkt y^k \n",
    "              min_wert v^k\n",
    "    '''\n",
    "    \n",
    "    fun = lambda x: np.dot(gradien_func_min(xk),(x-xk))\n",
    "    con = lambda x: np.abs(np.sum(x) -1)\n",
    "    bnds = [(0,np.inf)] * n\n",
    "    \n",
    "    nlc = NonlinearConstraint(con, -eps, eps)\n",
    "    res = minimize(fun,xk, method='SLSQP',\n",
    "                   constraints=nlc,bounds=bnds, tol=eps)\n",
    "    \n",
    "    return {'v':res.fun, 'y':res.x }\n",
    "\n",
    "def frank_wolf():\n",
    "    Sigma = sigma.values\n",
    "    Mu = mu.values\n",
    "    lamb = 10\n",
    "    n = Mu.size\n",
    "    x_0 = get_element_inM(n)\n",
    "    x = x_0\n",
    "    i = 0\n",
    "    res_q = problem_Q(x)\n",
    "    v = res_q['v']\n",
    "    y = res_q['y']\n",
    "    while v < -eps:\n",
    "        i = i+1\n",
    "        #print(f'{i}- times ')\n",
    "        d = y-x \n",
    "        t = problem_S(x,d)\n",
    "        x = x + t*d\n",
    "        res_q = problem_Q(x)\n",
    "        v = res_q['v']\n",
    "        #print(f'min value: {v}')\n",
    "        y = res_q['y']\n",
    "    else:\n",
    "        print(f'min wert:{v} and min punkt:{x}')\n",
    "    res_df_fw = pd.DataFrame()\n",
    "    res_df_fw['shares'] = shares\n",
    "    res_df_fw['percent'] = x\n",
    "    return res_df_fw"
   ]
  },
  {
   "cell_type": "code",
   "execution_count": 10,
   "id": "da0eb66c",
   "metadata": {},
   "outputs": [
    {
     "name": "stdout",
     "output_type": "stream",
     "text": [
      "min wert:0.0 and min punkt:[8.61883814e-08 1.25034389e-07 7.36268860e-08 8.75462261e-09\n",
      " 5.54083460e-08 2.62133766e-09 1.65327571e-01 3.07508777e-01\n",
      " 3.82833818e-08 2.39791215e-01 1.29372183e-07 7.62352238e-08\n",
      " 6.10851624e-08 1.32396273e-07 1.36633541e-07 1.92103341e-08\n",
      " 1.50447323e-07 4.95905421e-08 1.40463643e-07 1.14211463e-07\n",
      " 5.93653513e-08 2.13771607e-08 2.87270413e-01 5.14514311e-08\n",
      " 8.59970114e-08 3.77766785e-08 9.42248181e-08 1.41200910e-07\n",
      " 4.01230960e-08 9.83353733e-08]\n"
     ]
    }
   ],
   "source": [
    "res_fw = frank_wolf()"
   ]
  },
  {
   "cell_type": "code",
   "execution_count": 11,
   "id": "0828595e",
   "metadata": {},
   "outputs": [
    {
     "data": {
      "text/html": [
       "<div>\n",
       "<style scoped>\n",
       "    .dataframe tbody tr th:only-of-type {\n",
       "        vertical-align: middle;\n",
       "    }\n",
       "\n",
       "    .dataframe tbody tr th {\n",
       "        vertical-align: top;\n",
       "    }\n",
       "\n",
       "    .dataframe thead th {\n",
       "        text-align: right;\n",
       "    }\n",
       "</style>\n",
       "<table border=\"1\" class=\"dataframe\">\n",
       "  <thead>\n",
       "    <tr style=\"text-align: right;\">\n",
       "      <th></th>\n",
       "      <th>shares</th>\n",
       "      <th>percent</th>\n",
       "    </tr>\n",
       "  </thead>\n",
       "  <tbody>\n",
       "    <tr>\n",
       "      <th>0</th>\n",
       "      <td>AAPL</td>\n",
       "      <td>8.618838e-08</td>\n",
       "    </tr>\n",
       "    <tr>\n",
       "      <th>1</th>\n",
       "      <td>MSFT</td>\n",
       "      <td>1.250344e-07</td>\n",
       "    </tr>\n",
       "    <tr>\n",
       "      <th>2</th>\n",
       "      <td>XOM</td>\n",
       "      <td>7.362689e-08</td>\n",
       "    </tr>\n",
       "    <tr>\n",
       "      <th>3</th>\n",
       "      <td>JNJ</td>\n",
       "      <td>8.754623e-09</td>\n",
       "    </tr>\n",
       "    <tr>\n",
       "      <th>4</th>\n",
       "      <td>GE</td>\n",
       "      <td>5.540835e-08</td>\n",
       "    </tr>\n",
       "    <tr>\n",
       "      <th>5</th>\n",
       "      <td>BRK-B</td>\n",
       "      <td>2.621338e-09</td>\n",
       "    </tr>\n",
       "    <tr>\n",
       "      <th>6</th>\n",
       "      <td>FB</td>\n",
       "      <td>1.653276e-01</td>\n",
       "    </tr>\n",
       "    <tr>\n",
       "      <th>7</th>\n",
       "      <td>AMZN</td>\n",
       "      <td>3.075088e-01</td>\n",
       "    </tr>\n",
       "    <tr>\n",
       "      <th>8</th>\n",
       "      <td>WFC</td>\n",
       "      <td>3.828338e-08</td>\n",
       "    </tr>\n",
       "    <tr>\n",
       "      <th>9</th>\n",
       "      <td>T</td>\n",
       "      <td>2.397912e-01</td>\n",
       "    </tr>\n",
       "    <tr>\n",
       "      <th>10</th>\n",
       "      <td>GOOGL</td>\n",
       "      <td>1.293722e-07</td>\n",
       "    </tr>\n",
       "    <tr>\n",
       "      <th>11</th>\n",
       "      <td>PG</td>\n",
       "      <td>7.623522e-08</td>\n",
       "    </tr>\n",
       "    <tr>\n",
       "      <th>12</th>\n",
       "      <td>GOOG</td>\n",
       "      <td>6.108516e-08</td>\n",
       "    </tr>\n",
       "    <tr>\n",
       "      <th>13</th>\n",
       "      <td>VZ</td>\n",
       "      <td>1.323963e-07</td>\n",
       "    </tr>\n",
       "    <tr>\n",
       "      <th>14</th>\n",
       "      <td>PFE</td>\n",
       "      <td>1.366335e-07</td>\n",
       "    </tr>\n",
       "    <tr>\n",
       "      <th>15</th>\n",
       "      <td>CVX</td>\n",
       "      <td>1.921033e-08</td>\n",
       "    </tr>\n",
       "    <tr>\n",
       "      <th>16</th>\n",
       "      <td>KO</td>\n",
       "      <td>1.504473e-07</td>\n",
       "    </tr>\n",
       "    <tr>\n",
       "      <th>17</th>\n",
       "      <td>HD</td>\n",
       "      <td>4.959054e-08</td>\n",
       "    </tr>\n",
       "    <tr>\n",
       "      <th>18</th>\n",
       "      <td>DIS</td>\n",
       "      <td>1.404636e-07</td>\n",
       "    </tr>\n",
       "    <tr>\n",
       "      <th>19</th>\n",
       "      <td>BAC</td>\n",
       "      <td>1.142115e-07</td>\n",
       "    </tr>\n",
       "    <tr>\n",
       "      <th>20</th>\n",
       "      <td>MRK</td>\n",
       "      <td>5.936535e-08</td>\n",
       "    </tr>\n",
       "    <tr>\n",
       "      <th>21</th>\n",
       "      <td>V</td>\n",
       "      <td>2.137716e-08</td>\n",
       "    </tr>\n",
       "    <tr>\n",
       "      <th>22</th>\n",
       "      <td>PM</td>\n",
       "      <td>2.872704e-01</td>\n",
       "    </tr>\n",
       "    <tr>\n",
       "      <th>23</th>\n",
       "      <td>CMCSA</td>\n",
       "      <td>5.145143e-08</td>\n",
       "    </tr>\n",
       "    <tr>\n",
       "      <th>24</th>\n",
       "      <td>INTC</td>\n",
       "      <td>8.599701e-08</td>\n",
       "    </tr>\n",
       "    <tr>\n",
       "      <th>25</th>\n",
       "      <td>PEP</td>\n",
       "      <td>3.777668e-08</td>\n",
       "    </tr>\n",
       "    <tr>\n",
       "      <th>26</th>\n",
       "      <td>CSCO</td>\n",
       "      <td>9.422482e-08</td>\n",
       "    </tr>\n",
       "    <tr>\n",
       "      <th>27</th>\n",
       "      <td>C</td>\n",
       "      <td>1.412009e-07</td>\n",
       "    </tr>\n",
       "    <tr>\n",
       "      <th>28</th>\n",
       "      <td>GILD</td>\n",
       "      <td>4.012310e-08</td>\n",
       "    </tr>\n",
       "    <tr>\n",
       "      <th>29</th>\n",
       "      <td>IBM</td>\n",
       "      <td>9.833537e-08</td>\n",
       "    </tr>\n",
       "  </tbody>\n",
       "</table>\n",
       "</div>"
      ],
      "text/plain": [
       "   shares       percent\n",
       "0    AAPL  8.618838e-08\n",
       "1    MSFT  1.250344e-07\n",
       "2     XOM  7.362689e-08\n",
       "3     JNJ  8.754623e-09\n",
       "4      GE  5.540835e-08\n",
       "5   BRK-B  2.621338e-09\n",
       "6      FB  1.653276e-01\n",
       "7    AMZN  3.075088e-01\n",
       "8     WFC  3.828338e-08\n",
       "9       T  2.397912e-01\n",
       "10  GOOGL  1.293722e-07\n",
       "11     PG  7.623522e-08\n",
       "12   GOOG  6.108516e-08\n",
       "13     VZ  1.323963e-07\n",
       "14    PFE  1.366335e-07\n",
       "15    CVX  1.921033e-08\n",
       "16     KO  1.504473e-07\n",
       "17     HD  4.959054e-08\n",
       "18    DIS  1.404636e-07\n",
       "19    BAC  1.142115e-07\n",
       "20    MRK  5.936535e-08\n",
       "21      V  2.137716e-08\n",
       "22     PM  2.872704e-01\n",
       "23  CMCSA  5.145143e-08\n",
       "24   INTC  8.599701e-08\n",
       "25    PEP  3.777668e-08\n",
       "26   CSCO  9.422482e-08\n",
       "27      C  1.412009e-07\n",
       "28   GILD  4.012310e-08\n",
       "29    IBM  9.833537e-08"
      ]
     },
     "execution_count": 11,
     "metadata": {},
     "output_type": "execute_result"
    }
   ],
   "source": [
    "res_fw"
   ]
  },
  {
   "cell_type": "markdown",
   "id": "0463c35b",
   "metadata": {},
   "source": [
    "## 2 d) Python Lösung\n",
    "Lösen Sie $P$ direkt mit Python und vergleichen Sie ihren Optimalpunkt mit dem aus Teil c). Ist dieses Ergebnis zu erwarten? Verwenden Sie Aufgabenteil b)."
   ]
  },
  {
   "cell_type": "code",
   "execution_count": 12,
   "id": "c1638e84",
   "metadata": {},
   "outputs": [],
   "source": [
    "def pri():\n",
    "    x_0 = get_element_inM(n)\n",
    "    con = lambda x: np.abs(np.sum(x) -1)\n",
    "    \n",
    "    bnds = [(0,np.inf)] * n\n",
    "    nlc = NonlinearConstraint(con, -eps, eps)\n",
    "    res = minimize(func_min,x_0, method='SLSQP',\n",
    "                   constraints=nlc,bounds=bnds, tol=eps)\n",
    "    \n",
    "    res_df_pri = pd.DataFrame()\n",
    "    res_df_pri['shares'] = shares\n",
    "    res_df_pri['percent'] = res.x\n",
    "    print(f'min wert:{res.fun} and min punkt:{res.x}')\n",
    "    return res_df_pri\n"
   ]
  },
  {
   "cell_type": "code",
   "execution_count": 13,
   "id": "ea6b3fb6",
   "metadata": {},
   "outputs": [
    {
     "name": "stdout",
     "output_type": "stream",
     "text": [
      "min wert:-0.16479765164982862 and min punkt:[0.00000000e+00 0.00000000e+00 0.00000000e+00 0.00000000e+00\n",
      " 0.00000000e+00 1.88425110e-16 1.58661484e-01 3.07010489e-01\n",
      " 0.00000000e+00 2.48144775e-01 2.15020464e-16 0.00000000e+00\n",
      " 2.32512423e-16 0.00000000e+00 0.00000000e+00 0.00000000e+00\n",
      " 0.00000000e+00 3.77655459e-17 0.00000000e+00 0.00000000e+00\n",
      " 0.00000000e+00 0.00000000e+00 2.86083252e-01 0.00000000e+00\n",
      " 0.00000000e+00 0.00000000e+00 0.00000000e+00 0.00000000e+00\n",
      " 0.00000000e+00 0.00000000e+00]\n"
     ]
    }
   ],
   "source": [
    "res_pri= pri()"
   ]
  },
  {
   "cell_type": "code",
   "execution_count": 14,
   "id": "c6f69d34",
   "metadata": {},
   "outputs": [
    {
     "data": {
      "text/html": [
       "<div>\n",
       "<style scoped>\n",
       "    .dataframe tbody tr th:only-of-type {\n",
       "        vertical-align: middle;\n",
       "    }\n",
       "\n",
       "    .dataframe tbody tr th {\n",
       "        vertical-align: top;\n",
       "    }\n",
       "\n",
       "    .dataframe thead th {\n",
       "        text-align: right;\n",
       "    }\n",
       "</style>\n",
       "<table border=\"1\" class=\"dataframe\">\n",
       "  <thead>\n",
       "    <tr style=\"text-align: right;\">\n",
       "      <th></th>\n",
       "      <th>shares</th>\n",
       "      <th>percent</th>\n",
       "    </tr>\n",
       "  </thead>\n",
       "  <tbody>\n",
       "    <tr>\n",
       "      <th>0</th>\n",
       "      <td>AAPL</td>\n",
       "      <td>0.000000e+00</td>\n",
       "    </tr>\n",
       "    <tr>\n",
       "      <th>1</th>\n",
       "      <td>MSFT</td>\n",
       "      <td>0.000000e+00</td>\n",
       "    </tr>\n",
       "    <tr>\n",
       "      <th>2</th>\n",
       "      <td>XOM</td>\n",
       "      <td>0.000000e+00</td>\n",
       "    </tr>\n",
       "    <tr>\n",
       "      <th>3</th>\n",
       "      <td>JNJ</td>\n",
       "      <td>0.000000e+00</td>\n",
       "    </tr>\n",
       "    <tr>\n",
       "      <th>4</th>\n",
       "      <td>GE</td>\n",
       "      <td>0.000000e+00</td>\n",
       "    </tr>\n",
       "    <tr>\n",
       "      <th>5</th>\n",
       "      <td>BRK-B</td>\n",
       "      <td>1.884251e-16</td>\n",
       "    </tr>\n",
       "    <tr>\n",
       "      <th>6</th>\n",
       "      <td>FB</td>\n",
       "      <td>1.586615e-01</td>\n",
       "    </tr>\n",
       "    <tr>\n",
       "      <th>7</th>\n",
       "      <td>AMZN</td>\n",
       "      <td>3.070105e-01</td>\n",
       "    </tr>\n",
       "    <tr>\n",
       "      <th>8</th>\n",
       "      <td>WFC</td>\n",
       "      <td>0.000000e+00</td>\n",
       "    </tr>\n",
       "    <tr>\n",
       "      <th>9</th>\n",
       "      <td>T</td>\n",
       "      <td>2.481448e-01</td>\n",
       "    </tr>\n",
       "    <tr>\n",
       "      <th>10</th>\n",
       "      <td>GOOGL</td>\n",
       "      <td>2.150205e-16</td>\n",
       "    </tr>\n",
       "    <tr>\n",
       "      <th>11</th>\n",
       "      <td>PG</td>\n",
       "      <td>0.000000e+00</td>\n",
       "    </tr>\n",
       "    <tr>\n",
       "      <th>12</th>\n",
       "      <td>GOOG</td>\n",
       "      <td>2.325124e-16</td>\n",
       "    </tr>\n",
       "    <tr>\n",
       "      <th>13</th>\n",
       "      <td>VZ</td>\n",
       "      <td>0.000000e+00</td>\n",
       "    </tr>\n",
       "    <tr>\n",
       "      <th>14</th>\n",
       "      <td>PFE</td>\n",
       "      <td>0.000000e+00</td>\n",
       "    </tr>\n",
       "    <tr>\n",
       "      <th>15</th>\n",
       "      <td>CVX</td>\n",
       "      <td>0.000000e+00</td>\n",
       "    </tr>\n",
       "    <tr>\n",
       "      <th>16</th>\n",
       "      <td>KO</td>\n",
       "      <td>0.000000e+00</td>\n",
       "    </tr>\n",
       "    <tr>\n",
       "      <th>17</th>\n",
       "      <td>HD</td>\n",
       "      <td>3.776555e-17</td>\n",
       "    </tr>\n",
       "    <tr>\n",
       "      <th>18</th>\n",
       "      <td>DIS</td>\n",
       "      <td>0.000000e+00</td>\n",
       "    </tr>\n",
       "    <tr>\n",
       "      <th>19</th>\n",
       "      <td>BAC</td>\n",
       "      <td>0.000000e+00</td>\n",
       "    </tr>\n",
       "    <tr>\n",
       "      <th>20</th>\n",
       "      <td>MRK</td>\n",
       "      <td>0.000000e+00</td>\n",
       "    </tr>\n",
       "    <tr>\n",
       "      <th>21</th>\n",
       "      <td>V</td>\n",
       "      <td>0.000000e+00</td>\n",
       "    </tr>\n",
       "    <tr>\n",
       "      <th>22</th>\n",
       "      <td>PM</td>\n",
       "      <td>2.860833e-01</td>\n",
       "    </tr>\n",
       "    <tr>\n",
       "      <th>23</th>\n",
       "      <td>CMCSA</td>\n",
       "      <td>0.000000e+00</td>\n",
       "    </tr>\n",
       "    <tr>\n",
       "      <th>24</th>\n",
       "      <td>INTC</td>\n",
       "      <td>0.000000e+00</td>\n",
       "    </tr>\n",
       "    <tr>\n",
       "      <th>25</th>\n",
       "      <td>PEP</td>\n",
       "      <td>0.000000e+00</td>\n",
       "    </tr>\n",
       "    <tr>\n",
       "      <th>26</th>\n",
       "      <td>CSCO</td>\n",
       "      <td>0.000000e+00</td>\n",
       "    </tr>\n",
       "    <tr>\n",
       "      <th>27</th>\n",
       "      <td>C</td>\n",
       "      <td>0.000000e+00</td>\n",
       "    </tr>\n",
       "    <tr>\n",
       "      <th>28</th>\n",
       "      <td>GILD</td>\n",
       "      <td>0.000000e+00</td>\n",
       "    </tr>\n",
       "    <tr>\n",
       "      <th>29</th>\n",
       "      <td>IBM</td>\n",
       "      <td>0.000000e+00</td>\n",
       "    </tr>\n",
       "  </tbody>\n",
       "</table>\n",
       "</div>"
      ],
      "text/plain": [
       "   shares       percent\n",
       "0    AAPL  0.000000e+00\n",
       "1    MSFT  0.000000e+00\n",
       "2     XOM  0.000000e+00\n",
       "3     JNJ  0.000000e+00\n",
       "4      GE  0.000000e+00\n",
       "5   BRK-B  1.884251e-16\n",
       "6      FB  1.586615e-01\n",
       "7    AMZN  3.070105e-01\n",
       "8     WFC  0.000000e+00\n",
       "9       T  2.481448e-01\n",
       "10  GOOGL  2.150205e-16\n",
       "11     PG  0.000000e+00\n",
       "12   GOOG  2.325124e-16\n",
       "13     VZ  0.000000e+00\n",
       "14    PFE  0.000000e+00\n",
       "15    CVX  0.000000e+00\n",
       "16     KO  0.000000e+00\n",
       "17     HD  3.776555e-17\n",
       "18    DIS  0.000000e+00\n",
       "19    BAC  0.000000e+00\n",
       "20    MRK  0.000000e+00\n",
       "21      V  0.000000e+00\n",
       "22     PM  2.860833e-01\n",
       "23  CMCSA  0.000000e+00\n",
       "24   INTC  0.000000e+00\n",
       "25    PEP  0.000000e+00\n",
       "26   CSCO  0.000000e+00\n",
       "27      C  0.000000e+00\n",
       "28   GILD  0.000000e+00\n",
       "29    IBM  0.000000e+00"
      ]
     },
     "execution_count": 14,
     "metadata": {},
     "output_type": "execute_result"
    }
   ],
   "source": [
    "res_pri"
   ]
  },
  {
   "cell_type": "code",
   "execution_count": 15,
   "id": "17dd112a",
   "metadata": {},
   "outputs": [],
   "source": [
    "res_df = pd.DataFrame()\n",
    "res_df['shares'] = shares\n",
    "res_df['frank_wolf'] = res_fw['percent']\n",
    "res_df['prima'] = res_pri['percent']"
   ]
  },
  {
   "cell_type": "code",
   "execution_count": 16,
   "id": "66fe0f15",
   "metadata": {},
   "outputs": [
    {
     "data": {
      "text/plain": [
       "<AxesSubplot:xlabel='shares'>"
      ]
     },
     "execution_count": 16,
     "metadata": {},
     "output_type": "execute_result"
    },
    {
     "data": {
      "image/png": "[encoded data removed]",
      "text/plain": [
       "<Figure size 1080x1080 with 1 Axes>"
      ]
     },
     "metadata": {
      "needs_background": "light"
     },
     "output_type": "display_data"
    }
   ],
   "source": [
    "res_df.plot(x=\"shares\", y=[\"frank_wolf\", \"prima\"], kind=\"bar\", figsize=(15,15))"
   ]
  },
  {
   "cell_type": "markdown",
   "id": "762ac843",
   "metadata": {},
   "source": [
    "### Vergleich"
   ]
  },
  {
   "cell_type": "markdown",
   "id": "c7cd2687",
   "metadata": {},
   "source": [
    "Man erkennt in der oberen Grafik, dass die Lösungen gleich sind bis auf eine kleine Differenz. Die Diskrepanz kommt dadurch zustande, dass in unserem Algortihmus mehr Iterationen durchgeführt werden als in primalen Version.\n",
    "\n",
    "Der optimal Wert des Optimierungsproblem ist null. Dies war unter bertracht von Aufgabenteil b) zu erwarten, da unsere Zielfunktion gleichmäßig konvex ist und nicht an der y-Achse verschoben ist."
   ]
  }
 ],
 "metadata": {
  "kernelspec": {
   "display_name": "Python 3 (ipykernel)",
   "language": "python",
   "name": "python3"
  },
  "language_info": {
   "codemirror_mode": {
    "name": "ipython",
    "version": 3
   },
   "file_extension": ".py",
   "mimetype": "text/x-python",
   "name": "python",
   "nbconvert_exporter": "python",
   "pygments_lexer": "ipython3",
   "version": "3.9.12"
  }
 },
 "nbformat": 4,
 "nbformat_minor": 5
}
