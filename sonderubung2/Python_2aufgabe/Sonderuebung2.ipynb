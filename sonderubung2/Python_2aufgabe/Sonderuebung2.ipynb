{
 "cells": [
  {
   "cell_type": "markdown",
   "id": "7ff30bd3",
   "metadata": {},
   "source": [
    "# Sonderübung 2"
   ]
  },
  {
   "cell_type": "markdown",
   "id": "2feb219a",
   "metadata": {},
   "source": [
    "## Imports"
   ]
  },
  {
   "cell_type": "code",
   "execution_count": 1,
   "id": "63e33f4d",
   "metadata": {},
   "outputs": [],
   "source": [
    "import numpy as np\n",
    "from matplotlib import pyplot as plt\n",
    "import pandas as pd\n",
    "from gurobipy import *"
   ]
  },
  {
   "cell_type": "markdown",
   "id": "77cc53b8",
   "metadata": {},
   "source": [
    "### Achtung: \n",
    "die untenstehenden Befehle funktionieren nur mit einer aktuellen pandas Version: falls beim pandas.drop() Befehl, ein Fehler auftritt , dann schauen, dass pandas geupdated wird zb über \"pip install pandas --upgrade\" (Version 1.4.2. funktioniert), danach das Notebook komplett neustarten und nicht nur die Importzelle neu ausführen"
   ]
  },
  {
   "cell_type": "markdown",
   "id": "9dd8d1e7",
   "metadata": {},
   "source": [
    "## Parameter für das Optimierungsproblem"
   ]
  },
  {
   "cell_type": "code",
   "execution_count": 2,
   "id": "5ac4e65d",
   "metadata": {},
   "outputs": [],
   "source": [
    "shares = ['AAPL', 'MSFT', 'XOM', 'JNJ', 'GE', 'BRK-B', 'FB', \n",
    "          'AMZN', 'WFC','T','GOOGL','PG','GOOG','VZ','PFE',\n",
    "          'CVX','KO','HD','DIS','BAC','MRK','V','PM','CMCSA',\n",
    "          'INTC','PEP','CSCO','C','GILD','IBM']"
   ]
  },
  {
   "cell_type": "code",
   "execution_count": 3,
   "id": "5d2a392b",
   "metadata": {},
   "outputs": [],
   "source": [
    "historical_prices = pd.read_excel('historical_prices.xlsx', index_col=0)\n",
    "historical_returns = historical_prices / historical_prices.shift(1) - 1\n",
    "historical_returns = historical_returns.drop(['2015-05-13'])\n",
    "mu = historical_returns.mean()*252 # Estimation of mu\n",
    "sigma = historical_returns.cov()*252 # Estimation of covariance-matrix"
   ]
  },
  {
   "cell_type": "code",
   "execution_count": 4,
   "id": "0366f8b7",
   "metadata": {},
   "outputs": [
    {
     "data": {
      "text/html": [
       "<div>\n",
       "<style scoped>\n",
       "    .dataframe tbody tr th:only-of-type {\n",
       "        vertical-align: middle;\n",
       "    }\n",
       "\n",
       "    .dataframe tbody tr th {\n",
       "        vertical-align: top;\n",
       "    }\n",
       "\n",
       "    .dataframe thead th {\n",
       "        text-align: right;\n",
       "    }\n",
       "</style>\n",
       "<table border=\"1\" class=\"dataframe\">\n",
       "  <thead>\n",
       "    <tr style=\"text-align: right;\">\n",
       "      <th></th>\n",
       "      <th>AAPL</th>\n",
       "      <th>MSFT</th>\n",
       "      <th>XOM</th>\n",
       "      <th>JNJ</th>\n",
       "      <th>GE</th>\n",
       "      <th>BRK-B</th>\n",
       "      <th>FB</th>\n",
       "      <th>AMZN</th>\n",
       "    </tr>\n",
       "  </thead>\n",
       "  <tbody>\n",
       "    <tr>\n",
       "      <th>AAPL</th>\n",
       "      <td>0.077915</td>\n",
       "      <td>0.045575</td>\n",
       "      <td>0.031541</td>\n",
       "      <td>0.020971</td>\n",
       "      <td>0.028955</td>\n",
       "      <td>0.027391</td>\n",
       "      <td>0.040927</td>\n",
       "      <td>0.040994</td>\n",
       "    </tr>\n",
       "    <tr>\n",
       "      <th>MSFT</th>\n",
       "      <td>0.045575</td>\n",
       "      <td>0.072776</td>\n",
       "      <td>0.027717</td>\n",
       "      <td>0.025104</td>\n",
       "      <td>0.032222</td>\n",
       "      <td>0.029367</td>\n",
       "      <td>0.048484</td>\n",
       "      <td>0.051320</td>\n",
       "    </tr>\n",
       "    <tr>\n",
       "      <th>XOM</th>\n",
       "      <td>0.031541</td>\n",
       "      <td>0.027717</td>\n",
       "      <td>0.059183</td>\n",
       "      <td>0.022321</td>\n",
       "      <td>0.028922</td>\n",
       "      <td>0.027715</td>\n",
       "      <td>0.024145</td>\n",
       "      <td>0.024970</td>\n",
       "    </tr>\n",
       "    <tr>\n",
       "      <th>JNJ</th>\n",
       "      <td>0.020971</td>\n",
       "      <td>0.025104</td>\n",
       "      <td>0.022321</td>\n",
       "      <td>0.026636</td>\n",
       "      <td>0.019970</td>\n",
       "      <td>0.021105</td>\n",
       "      <td>0.022804</td>\n",
       "      <td>0.023365</td>\n",
       "    </tr>\n",
       "    <tr>\n",
       "      <th>GE</th>\n",
       "      <td>0.028955</td>\n",
       "      <td>0.032222</td>\n",
       "      <td>0.028922</td>\n",
       "      <td>0.019970</td>\n",
       "      <td>0.043824</td>\n",
       "      <td>0.026067</td>\n",
       "      <td>0.029822</td>\n",
       "      <td>0.028163</td>\n",
       "    </tr>\n",
       "    <tr>\n",
       "      <th>BRK-B</th>\n",
       "      <td>0.027391</td>\n",
       "      <td>0.029367</td>\n",
       "      <td>0.027715</td>\n",
       "      <td>0.021105</td>\n",
       "      <td>0.026067</td>\n",
       "      <td>0.031443</td>\n",
       "      <td>0.026365</td>\n",
       "      <td>0.025164</td>\n",
       "    </tr>\n",
       "    <tr>\n",
       "      <th>FB</th>\n",
       "      <td>0.040927</td>\n",
       "      <td>0.048484</td>\n",
       "      <td>0.024145</td>\n",
       "      <td>0.022804</td>\n",
       "      <td>0.029822</td>\n",
       "      <td>0.026365</td>\n",
       "      <td>0.106992</td>\n",
       "      <td>0.075159</td>\n",
       "    </tr>\n",
       "    <tr>\n",
       "      <th>AMZN</th>\n",
       "      <td>0.040994</td>\n",
       "      <td>0.051320</td>\n",
       "      <td>0.024970</td>\n",
       "      <td>0.023365</td>\n",
       "      <td>0.028163</td>\n",
       "      <td>0.025164</td>\n",
       "      <td>0.075159</td>\n",
       "      <td>0.121713</td>\n",
       "    </tr>\n",
       "  </tbody>\n",
       "</table>\n",
       "</div>"
      ],
      "text/plain": [
       "           AAPL      MSFT       XOM       JNJ        GE     BRK-B        FB  \\\n",
       "AAPL   0.077915  0.045575  0.031541  0.020971  0.028955  0.027391  0.040927   \n",
       "MSFT   0.045575  0.072776  0.027717  0.025104  0.032222  0.029367  0.048484   \n",
       "XOM    0.031541  0.027717  0.059183  0.022321  0.028922  0.027715  0.024145   \n",
       "JNJ    0.020971  0.025104  0.022321  0.026636  0.019970  0.021105  0.022804   \n",
       "GE     0.028955  0.032222  0.028922  0.019970  0.043824  0.026067  0.029822   \n",
       "BRK-B  0.027391  0.029367  0.027715  0.021105  0.026067  0.031443  0.026365   \n",
       "FB     0.040927  0.048484  0.024145  0.022804  0.029822  0.026365  0.106992   \n",
       "AMZN   0.040994  0.051320  0.024970  0.023365  0.028163  0.025164  0.075159   \n",
       "\n",
       "           AMZN  \n",
       "AAPL   0.040994  \n",
       "MSFT   0.051320  \n",
       "XOM    0.024970  \n",
       "JNJ    0.023365  \n",
       "GE     0.028163  \n",
       "BRK-B  0.025164  \n",
       "FB     0.075159  \n",
       "AMZN   0.121713  "
      ]
     },
     "execution_count": 4,
     "metadata": {},
     "output_type": "execute_result"
    }
   ],
   "source": [
    "sigma.iloc[0:8,0:8]"
   ]
  },
  {
   "cell_type": "code",
   "execution_count": 5,
   "id": "605ab57f",
   "metadata": {},
   "outputs": [],
   "source": [
    "Sigma = sigma.values\n",
    "Mu = mu.values\n",
    "lamb = 10\n",
    "n = Mu.size"
   ]
  },
  {
   "cell_type": "markdown",
   "id": "f8db6b6b",
   "metadata": {},
   "source": [
    "## Aufgabe 2 b) \n",
    "Zeigen Sie, dass die Zielfunktion von $P$ mit den gegebenen Daten $\\Sigma, \\mu$ und $\\lambda$ gleichmäßig konvex ist."
   ]
  },
  {
   "cell_type": "code",
   "execution_count": null,
   "id": "2fd8f3a2",
   "metadata": {},
   "outputs": [],
   "source": [
    "from numpy import linalg as LA\n",
    "from scipy.optimize import minimize\n",
    "from scipy.optimize import Bounds\n",
    "import random"
   ]
  },
  {
   "cell_type": "markdown",
   "id": "e14f1897",
   "metadata": {},
   "source": [
    "Nach 2.5.10 Satz (C2-Charakterisierung von gleichmäßiger Konvexität).\n",
    "Wir brechen die Eigenwerte von $D^{2}(f(x)) = \\lambda\\Sigma$ und zeigen der kleinste Eigenwert größer null ist. "
   ]
  },
  {
   "cell_type": "code",
   "execution_count": 7,
   "id": "115906bc",
   "metadata": {},
   "outputs": [
    {
     "name": "stdout",
     "output_type": "stream",
     "text": [
      "gleichmäßig konvex with the smallest eigenvalue\n"
     ]
    },
    {
     "data": {
      "text/plain": [
       "0.00778837301743193"
      ]
     },
     "execution_count": 7,
     "metadata": {},
     "output_type": "execute_result"
    }
   ],
   "source": [
    "def test_gleichmaeßig_konvex(matrix):\n",
    "    w,v = LA.eig(matrix)\n",
    "    if (np.min(w) > 0): \n",
    "        print (f\"gleichmäßig konvex with the smallest eigenvalue\")\n",
    "        return np.min(w)\n",
    "    else:\n",
    "        print (f\" not gleichmäßig konvex\")\n",
    "D_2_fx = lamb * Sigma\n",
    "test_gleichmaeßig_konvex(D_2_fx)"
   ]
  },
  {
   "cell_type": "markdown",
   "id": "be125c7f",
   "metadata": {},
   "source": [
    "## 2 c) Frank Wolfe\n",
    "Implementieren Sie das Verfahren aus dem Algorithmus auf dem Aufgabenblatt. Geben Sie am Ende aus, wie viel in welche Aktien investiert wird. Beachten Sie die Hinweise auf dem Aufgabenblatt."
   ]
  },
  {
   "cell_type": "code",
   "execution_count": 8,
   "id": "c6c61c84",
   "metadata": {},
   "outputs": [],
   "source": [
    "eps = 1e-4"
   ]
  },
  {
   "cell_type": "code",
   "execution_count": 9,
   "id": "a1b3de11",
   "metadata": {},
   "outputs": [],
   "source": [
    "def get_element_inM(n):\n",
    "    a = np.random.rand(n,1)\n",
    "    x_0 = (a/a.sum(axis=0,keepdims=1)).flatten()\n",
    "    return x_0"
   ]
  },
  {
   "cell_type": "code",
   "execution_count": 10,
   "id": "bf9d15a1",
   "metadata": {},
   "outputs": [],
   "source": [
    "Sigma = sigma.values\n",
    "Mu = mu.values\n",
    "lamb = 10\n",
    "n = Mu.size\n",
    "def func_min(x):\n",
    "    return np.dot(-Mu.transpose(), x) + 0.5*lamb* np.dot(x.transpose(),np.dot(Sigma,x)) \n",
    "def gradien_func_min(x):\n",
    "    return -Mu + lamb* np.dot(Sigma,x)"
   ]
  },
  {
   "cell_type": "code",
   "execution_count": 72,
   "id": "e5b17e9b",
   "metadata": {},
   "outputs": [],
   "source": []
  },
  {
   "cell_type": "code",
   "execution_count": 364,
   "id": "d361fa4e",
   "metadata": {},
   "outputs": [],
   "source": [
    "def problem_S(x_k,d_k):\n",
    "    fun = lambda t: func_min(x_k + t*d_k)\n",
    "    bounds = Bounds(0+eps, 1- eps)\n",
    "    t0 = random.uniform(0, 1)\n",
    "    res = minimize(fun,t0, method='Nelder-Mead',bounds= bounds, tol=1e-6)\n",
    "    return res.x.flatten()[0]"
   ]
  },
  {
   "cell_type": "code",
   "execution_count": 403,
   "id": "be20e95b",
   "metadata": {},
   "outputs": [
    {
     "name": "stdout",
     "output_type": "stream",
     "text": [
      "0.0001\n"
     ]
    }
   ],
   "source": [
    "x_1 = get_element_inM(n)\n",
    "x_0 = get_element_inM(n)\n",
    "d_1 = x_1 - x_0\n",
    "print(problem_S(x_0, d_1))"
   ]
  },
  {
   "cell_type": "code",
   "execution_count": 216,
   "id": "705ad22a",
   "metadata": {},
   "outputs": [],
   "source": [
    "def problem_Q(xk,lamb,Sigma):\n",
    "    fun = \n",
    "    return"
   ]
  },
  {
   "cell_type": "markdown",
   "id": "0463c35b",
   "metadata": {},
   "source": [
    "## 2 d) Python Lösung\n",
    "Lösen Sie $P$ direkt mit Python und vergleichen Sie ihren Optimalpunkt mit dem aus Teil c). Ist dieses Ergebnis zu erwarten? Verwenden Sie Aufgabenteil b)."
   ]
  },
  {
   "cell_type": "code",
   "execution_count": null,
   "id": "b1dffe49",
   "metadata": {},
   "outputs": [],
   "source": []
  },
  {
   "cell_type": "markdown",
   "id": "762ac843",
   "metadata": {},
   "source": [
    "### Vergleich"
   ]
  },
  {
   "cell_type": "code",
   "execution_count": null,
   "id": "e5007de9",
   "metadata": {},
   "outputs": [],
   "source": []
  }
 ],
 "metadata": {
  "kernelspec": {
   "display_name": "Python 3 (ipykernel)",
   "language": "python",
   "name": "python3"
  },
  "language_info": {
   "codemirror_mode": {
    "name": "ipython",
    "version": 3
   },
   "file_extension": ".py",
   "mimetype": "text/x-python",
   "name": "python",
   "nbconvert_exporter": "python",
   "pygments_lexer": "ipython3",
   "version": "3.9.12"
  }
 },
 "nbformat": 4,
 "nbformat_minor": 5
}
