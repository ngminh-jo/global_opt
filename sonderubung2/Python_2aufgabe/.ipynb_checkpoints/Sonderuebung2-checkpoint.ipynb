{
 "cells": [
  {
   "cell_type": "markdown",
   "id": "7ff30bd3",
   "metadata": {},
   "source": [
    "# Sonderübung 2"
   ]
  },
  {
   "cell_type": "markdown",
   "id": "2feb219a",
   "metadata": {},
   "source": [
    "## Imports"
   ]
  },
  {
   "cell_type": "code",
   "execution_count": 1,
   "id": "63e33f4d",
   "metadata": {},
   "outputs": [],
   "source": [
    "import numpy as np\n",
    "from matplotlib import pyplot as plt\n",
    "import pandas as pd\n",
    "from gurobipy import *"
   ]
  },
  {
   "cell_type": "markdown",
   "id": "77cc53b8",
   "metadata": {},
   "source": [
    "### Achtung: \n",
    "die untenstehenden Befehle funktionieren nur mit einer aktuellen pandas Version: falls beim pandas.drop() Befehl, ein Fehler auftritt , dann schauen, dass pandas geupdated wird zb über \"pip install pandas --upgrade\" (Version 1.4.2. funktioniert), danach das Notebook komplett neustarten und nicht nur die Importzelle neu ausführen"
   ]
  },
  {
   "cell_type": "markdown",
   "id": "9dd8d1e7",
   "metadata": {},
   "source": [
    "## Parameter für das Optimierungsproblem"
   ]
  },
  {
   "cell_type": "code",
   "execution_count": 2,
   "id": "5ac4e65d",
   "metadata": {},
   "outputs": [],
   "source": [
    "shares = ['AAPL', 'MSFT', 'XOM', 'JNJ', 'GE', 'BRK-B', 'FB', \n",
    "          'AMZN', 'WFC','T','GOOGL','PG','GOOG','VZ','PFE',\n",
    "          'CVX','KO','HD','DIS','BAC','MRK','V','PM','CMCSA',\n",
    "          'INTC','PEP','CSCO','C','GILD','IBM']"
   ]
  },
  {
   "cell_type": "code",
   "execution_count": 3,
   "id": "5d2a392b",
   "metadata": {},
   "outputs": [],
   "source": [
    "historical_prices = pd.read_excel('historical_prices.xlsx', index_col=0)\n",
    "historical_returns = historical_prices / historical_prices.shift(1) - 1\n",
    "historical_returns = historical_returns.drop(['2015-05-13'])\n",
    "mu = historical_returns.mean()*252 # Estimation of mu\n",
    "sigma = historical_returns.cov()*252 # Estimation of covariance-matrix"
   ]
  },
  {
   "cell_type": "code",
   "execution_count": 4,
   "id": "0366f8b7",
   "metadata": {},
   "outputs": [
    {
     "data": {
      "text/html": [
       "<div>\n",
       "<style scoped>\n",
       "    .dataframe tbody tr th:only-of-type {\n",
       "        vertical-align: middle;\n",
       "    }\n",
       "\n",
       "    .dataframe tbody tr th {\n",
       "        vertical-align: top;\n",
       "    }\n",
       "\n",
       "    .dataframe thead th {\n",
       "        text-align: right;\n",
       "    }\n",
       "</style>\n",
       "<table border=\"1\" class=\"dataframe\">\n",
       "  <thead>\n",
       "    <tr style=\"text-align: right;\">\n",
       "      <th></th>\n",
       "      <th>AAPL</th>\n",
       "      <th>MSFT</th>\n",
       "      <th>XOM</th>\n",
       "      <th>JNJ</th>\n",
       "      <th>GE</th>\n",
       "      <th>BRK-B</th>\n",
       "      <th>FB</th>\n",
       "      <th>AMZN</th>\n",
       "    </tr>\n",
       "  </thead>\n",
       "  <tbody>\n",
       "    <tr>\n",
       "      <th>AAPL</th>\n",
       "      <td>0.077915</td>\n",
       "      <td>0.045575</td>\n",
       "      <td>0.031541</td>\n",
       "      <td>0.020971</td>\n",
       "      <td>0.028955</td>\n",
       "      <td>0.027391</td>\n",
       "      <td>0.040927</td>\n",
       "      <td>0.040994</td>\n",
       "    </tr>\n",
       "    <tr>\n",
       "      <th>MSFT</th>\n",
       "      <td>0.045575</td>\n",
       "      <td>0.072776</td>\n",
       "      <td>0.027717</td>\n",
       "      <td>0.025104</td>\n",
       "      <td>0.032222</td>\n",
       "      <td>0.029367</td>\n",
       "      <td>0.048484</td>\n",
       "      <td>0.051320</td>\n",
       "    </tr>\n",
       "    <tr>\n",
       "      <th>XOM</th>\n",
       "      <td>0.031541</td>\n",
       "      <td>0.027717</td>\n",
       "      <td>0.059183</td>\n",
       "      <td>0.022321</td>\n",
       "      <td>0.028922</td>\n",
       "      <td>0.027715</td>\n",
       "      <td>0.024145</td>\n",
       "      <td>0.024970</td>\n",
       "    </tr>\n",
       "    <tr>\n",
       "      <th>JNJ</th>\n",
       "      <td>0.020971</td>\n",
       "      <td>0.025104</td>\n",
       "      <td>0.022321</td>\n",
       "      <td>0.026636</td>\n",
       "      <td>0.019970</td>\n",
       "      <td>0.021105</td>\n",
       "      <td>0.022804</td>\n",
       "      <td>0.023365</td>\n",
       "    </tr>\n",
       "    <tr>\n",
       "      <th>GE</th>\n",
       "      <td>0.028955</td>\n",
       "      <td>0.032222</td>\n",
       "      <td>0.028922</td>\n",
       "      <td>0.019970</td>\n",
       "      <td>0.043824</td>\n",
       "      <td>0.026067</td>\n",
       "      <td>0.029822</td>\n",
       "      <td>0.028163</td>\n",
       "    </tr>\n",
       "    <tr>\n",
       "      <th>BRK-B</th>\n",
       "      <td>0.027391</td>\n",
       "      <td>0.029367</td>\n",
       "      <td>0.027715</td>\n",
       "      <td>0.021105</td>\n",
       "      <td>0.026067</td>\n",
       "      <td>0.031443</td>\n",
       "      <td>0.026365</td>\n",
       "      <td>0.025164</td>\n",
       "    </tr>\n",
       "    <tr>\n",
       "      <th>FB</th>\n",
       "      <td>0.040927</td>\n",
       "      <td>0.048484</td>\n",
       "      <td>0.024145</td>\n",
       "      <td>0.022804</td>\n",
       "      <td>0.029822</td>\n",
       "      <td>0.026365</td>\n",
       "      <td>0.106992</td>\n",
       "      <td>0.075159</td>\n",
       "    </tr>\n",
       "    <tr>\n",
       "      <th>AMZN</th>\n",
       "      <td>0.040994</td>\n",
       "      <td>0.051320</td>\n",
       "      <td>0.024970</td>\n",
       "      <td>0.023365</td>\n",
       "      <td>0.028163</td>\n",
       "      <td>0.025164</td>\n",
       "      <td>0.075159</td>\n",
       "      <td>0.121713</td>\n",
       "    </tr>\n",
       "  </tbody>\n",
       "</table>\n",
       "</div>"
      ],
      "text/plain": [
       "           AAPL      MSFT       XOM       JNJ        GE     BRK-B        FB  \\\n",
       "AAPL   0.077915  0.045575  0.031541  0.020971  0.028955  0.027391  0.040927   \n",
       "MSFT   0.045575  0.072776  0.027717  0.025104  0.032222  0.029367  0.048484   \n",
       "XOM    0.031541  0.027717  0.059183  0.022321  0.028922  0.027715  0.024145   \n",
       "JNJ    0.020971  0.025104  0.022321  0.026636  0.019970  0.021105  0.022804   \n",
       "GE     0.028955  0.032222  0.028922  0.019970  0.043824  0.026067  0.029822   \n",
       "BRK-B  0.027391  0.029367  0.027715  0.021105  0.026067  0.031443  0.026365   \n",
       "FB     0.040927  0.048484  0.024145  0.022804  0.029822  0.026365  0.106992   \n",
       "AMZN   0.040994  0.051320  0.024970  0.023365  0.028163  0.025164  0.075159   \n",
       "\n",
       "           AMZN  \n",
       "AAPL   0.040994  \n",
       "MSFT   0.051320  \n",
       "XOM    0.024970  \n",
       "JNJ    0.023365  \n",
       "GE     0.028163  \n",
       "BRK-B  0.025164  \n",
       "FB     0.075159  \n",
       "AMZN   0.121713  "
      ]
     },
     "execution_count": 4,
     "metadata": {},
     "output_type": "execute_result"
    }
   ],
   "source": [
    "sigma.iloc[0:8,0:8]"
   ]
  },
  {
   "cell_type": "code",
   "execution_count": 5,
   "id": "605ab57f",
   "metadata": {},
   "outputs": [],
   "source": [
    "Sigma = sigma.values\n",
    "Mu = mu.values\n",
    "lamb = 10\n",
    "n = Mu.size"
   ]
  },
  {
   "cell_type": "markdown",
   "id": "f8db6b6b",
   "metadata": {},
   "source": [
    "## Aufgabe 2 b) \n",
    "Zeigen Sie, dass die Zielfunktion von $P$ mit den gegebenen Daten $\\Sigma, \\mu$ und $\\lambda$ gleichmäßig konvex ist."
   ]
  },
  {
   "cell_type": "code",
   "execution_count": 20,
   "id": "2fd8f3a2",
   "metadata": {},
   "outputs": [],
   "source": [
    "from numpy import linalg as LA\n",
    "from scipy.optimize import minimize\n",
    "from scipy.optimize import Bounds\n",
    "from scipy.optimize import NonlinearConstraint\n",
    "\n",
    "import random"
   ]
  },
  {
   "cell_type": "markdown",
   "id": "e14f1897",
   "metadata": {},
   "source": [
    "Nach 2.5.10 Satz (C2-Charakterisierung von gleichmäßiger Konvexität).\n",
    "Wir brechen die Eigenwerte von $D^{2}(f(x)) = \\lambda\\Sigma$ und zeigen der kleinste Eigenwert größer null ist. "
   ]
  },
  {
   "cell_type": "code",
   "execution_count": 7,
   "id": "115906bc",
   "metadata": {},
   "outputs": [
    {
     "name": "stdout",
     "output_type": "stream",
     "text": [
      "gleichmäßig konvex with the smallest eigenvalue\n"
     ]
    },
    {
     "data": {
      "text/plain": [
       "0.00778837301743193"
      ]
     },
     "execution_count": 7,
     "metadata": {},
     "output_type": "execute_result"
    }
   ],
   "source": [
    "def test_gleichmaeßig_konvex(matrix):\n",
    "    w,v = LA.eig(matrix)\n",
    "    if (np.min(w) > 0): \n",
    "        print (f\"gleichmäßig konvex with the smallest eigenvalue\")\n",
    "        return np.min(w)\n",
    "    else:\n",
    "        print (f\" not gleichmäßig konvex\")\n",
    "D_2_fx = lamb * Sigma\n",
    "test_gleichmaeßig_konvex(D_2_fx)"
   ]
  },
  {
   "cell_type": "markdown",
   "id": "be125c7f",
   "metadata": {},
   "source": [
    "## 2 c) Frank Wolfe\n",
    "Implementieren Sie das Verfahren aus dem Algorithmus auf dem Aufgabenblatt. Geben Sie am Ende aus, wie viel in welche Aktien investiert wird. Beachten Sie die Hinweise auf dem Aufgabenblatt."
   ]
  },
  {
   "cell_type": "code",
   "execution_count": 11,
   "id": "c6c61c84",
   "metadata": {},
   "outputs": [],
   "source": [
    "eps = 1e-4"
   ]
  },
  {
   "cell_type": "code",
   "execution_count": 12,
   "id": "a1b3de11",
   "metadata": {},
   "outputs": [],
   "source": [
    "def get_element_inM(n):\n",
    "    a = np.random.rand(n,1)\n",
    "    x_0 = (a/a.sum(axis=0,keepdims=1)).flatten()\n",
    "    return x_0"
   ]
  },
  {
   "cell_type": "code",
   "execution_count": 13,
   "id": "bf9d15a1",
   "metadata": {},
   "outputs": [],
   "source": [
    "Sigma = sigma.values\n",
    "Mu = mu.values\n",
    "lamb = 10\n",
    "n = Mu.size\n",
    "def func_min(x):\n",
    "    return np.dot(-Mu.transpose(), x) + 0.5*lamb* np.dot(x.transpose(),np.dot(Sigma,x)) \n",
    "def gradien_func_min(x):\n",
    "    return -Mu + lamb* np.dot(Sigma,x)"
   ]
  },
  {
   "cell_type": "code",
   "execution_count": 39,
   "id": "d361fa4e",
   "metadata": {},
   "outputs": [],
   "source": [
    "def problem_S(x_k,d_k):\n",
    "    ''' return: t^k \n",
    "    '''\n",
    "    fun = lambda t: func_min(x_k + t*d_k)\n",
    "    bounds = Bounds(0+eps, 1- eps)\n",
    "    t0 = random.uniform(0, 1)\n",
    "    res = minimize(fun,t0, method='Nelder-Mead',bounds= bounds, tol=eps)\n",
    "    return res.x.flatten()[0]"
   ]
  },
  {
   "cell_type": "code",
   "execution_count": 40,
   "id": "be20e95b",
   "metadata": {},
   "outputs": [
    {
     "name": "stdout",
     "output_type": "stream",
     "text": [
      "0.4342403679069809\n"
     ]
    }
   ],
   "source": []
  },
  {
   "cell_type": "code",
   "execution_count": 16,
   "id": "001355bd",
   "metadata": {},
   "outputs": [
    {
     "data": {
      "text/plain": [
       "array([0.03844208, 0.00187911, 0.02065977, 0.0018829 , 0.04606773,\n",
       "       0.07877305, 0.01916301, 0.03387065, 0.01277654, 0.03875895,\n",
       "       0.04698782, 0.04868994, 0.00953328, 0.01909641, 0.08091974,\n",
       "       0.00633787, 0.07741274, 0.02192305, 0.02021178, 0.03729333,\n",
       "       0.04129264, 0.02848419, 0.0280909 , 0.01777133, 0.05223196,\n",
       "       0.03295293, 0.05254997, 0.02831307, 0.0444411 , 0.01319217])"
      ]
     },
     "execution_count": 16,
     "metadata": {},
     "output_type": "execute_result"
    }
   ],
   "source": [
    "x_1"
   ]
  },
  {
   "cell_type": "code",
   "execution_count": 58,
   "id": "705ad22a",
   "metadata": {},
   "outputs": [],
   "source": [
    "def problem_Q(xk):\n",
    "    '''return minpunkt y^k \n",
    "              minwert v^k\n",
    "    '''\n",
    "    fun = lambda x: np.dot(gradien_func_min(xk),(x-xk))\n",
    "    con = lambda x: np.abs(np.sum(x) -1) \n",
    "    bounds = Bounds(np.zeros(n),np.ones(n)*np.inf)\n",
    "    \n",
    "    nlc = NonlinearConstraint(con, -eps, eps)\n",
    "    res = minimize(fun,xk, method='L-BFGS-B',constraints=nlc,bounds=Bounds, tol=eps)\n",
    "    return (res.fun, res.x)"
   ]
  },
  {
   "cell_type": "code",
   "execution_count": 59,
   "id": "8c31ab8e",
   "metadata": {},
   "outputs": [
    {
     "ename": "TypeError",
     "evalue": "zip() argument after * must be an iterable, not type",
     "output_type": "error",
     "traceback": [
      "\u001b[0;31m---------------------------------------------------------------------------\u001b[0m",
      "\u001b[0;31mTypeError\u001b[0m                                 Traceback (most recent call last)",
      "Input \u001b[0;32mIn [59]\u001b[0m, in \u001b[0;36m<cell line: 1>\u001b[0;34m()\u001b[0m\n\u001b[0;32m----> 1\u001b[0m res_q \u001b[38;5;241m=\u001b[39m \u001b[43mproblem_Q\u001b[49m\u001b[43m(\u001b[49m\u001b[43mx_0\u001b[49m\u001b[43m)\u001b[49m\n",
      "Input \u001b[0;32mIn [58]\u001b[0m, in \u001b[0;36mproblem_Q\u001b[0;34m(xk)\u001b[0m\n\u001b[1;32m      7\u001b[0m bounds \u001b[38;5;241m=\u001b[39m Bounds(np\u001b[38;5;241m.\u001b[39mzeros(n),np\u001b[38;5;241m.\u001b[39mones(n)\u001b[38;5;241m*\u001b[39mnp\u001b[38;5;241m.\u001b[39minf)\n\u001b[1;32m      8\u001b[0m nlc \u001b[38;5;241m=\u001b[39m NonlinearConstraint(con, \u001b[38;5;241m-\u001b[39meps, eps)\n\u001b[0;32m----> 9\u001b[0m res \u001b[38;5;241m=\u001b[39m \u001b[43mminimize\u001b[49m\u001b[43m(\u001b[49m\u001b[43mfun\u001b[49m\u001b[43m,\u001b[49m\u001b[43mxk\u001b[49m\u001b[43m,\u001b[49m\u001b[43m \u001b[49m\u001b[43mmethod\u001b[49m\u001b[38;5;241;43m=\u001b[39;49m\u001b[38;5;124;43m'\u001b[39;49m\u001b[38;5;124;43mSLSQP\u001b[39;49m\u001b[38;5;124;43m'\u001b[39;49m\u001b[43m,\u001b[49m\u001b[43mconstraints\u001b[49m\u001b[38;5;241;43m=\u001b[39;49m\u001b[43mnlc\u001b[49m\u001b[43m,\u001b[49m\u001b[43mbounds\u001b[49m\u001b[38;5;241;43m=\u001b[39;49m\u001b[43mBounds\u001b[49m\u001b[43m,\u001b[49m\u001b[43m \u001b[49m\u001b[43mtol\u001b[49m\u001b[38;5;241;43m=\u001b[39;49m\u001b[43meps\u001b[49m\u001b[43m)\u001b[49m\n\u001b[1;32m     10\u001b[0m \u001b[38;5;28;01mreturn\u001b[39;00m (res\u001b[38;5;241m.\u001b[39mfun, res\u001b[38;5;241m.\u001b[39mx)\n",
      "File \u001b[0;32m/opt/homebrew/lib/python3.9/site-packages/scipy/optimize/_minimize.py:631\u001b[0m, in \u001b[0;36mminimize\u001b[0;34m(fun, x0, args, method, jac, hess, hessp, bounds, constraints, tol, callback, options)\u001b[0m\n\u001b[1;32m    624\u001b[0m \u001b[38;5;28;01mif\u001b[39;00m bounds \u001b[38;5;129;01mis\u001b[39;00m \u001b[38;5;129;01mnot\u001b[39;00m \u001b[38;5;28;01mNone\u001b[39;00m:\n\u001b[1;32m    625\u001b[0m     \u001b[38;5;28;01mif\u001b[39;00m meth \u001b[38;5;129;01min\u001b[39;00m {\u001b[38;5;124m\"\u001b[39m\u001b[38;5;124mtnc\u001b[39m\u001b[38;5;124m\"\u001b[39m, \u001b[38;5;124m\"\u001b[39m\u001b[38;5;124mslsqp\u001b[39m\u001b[38;5;124m\"\u001b[39m, \u001b[38;5;124m\"\u001b[39m\u001b[38;5;124ml-bfgs-b\u001b[39m\u001b[38;5;124m\"\u001b[39m}:\n\u001b[1;32m    626\u001b[0m         \u001b[38;5;66;03m# These methods can't take the finite-difference derivatives they\u001b[39;00m\n\u001b[1;32m    627\u001b[0m         \u001b[38;5;66;03m# need when a variable is fixed by the bounds. To avoid this issue,\u001b[39;00m\n\u001b[1;32m    628\u001b[0m         \u001b[38;5;66;03m# remove fixed variables from the problem.\u001b[39;00m\n\u001b[1;32m    629\u001b[0m \n\u001b[1;32m    630\u001b[0m         \u001b[38;5;66;03m# convert to new-style bounds so we only have to consider one case\u001b[39;00m\n\u001b[0;32m--> 631\u001b[0m         bounds \u001b[38;5;241m=\u001b[39m \u001b[43mstandardize_bounds\u001b[49m\u001b[43m(\u001b[49m\u001b[43mbounds\u001b[49m\u001b[43m,\u001b[49m\u001b[43m \u001b[49m\u001b[43mx0\u001b[49m\u001b[43m,\u001b[49m\u001b[43m \u001b[49m\u001b[38;5;124;43m'\u001b[39;49m\u001b[38;5;124;43mnew\u001b[39;49m\u001b[38;5;124;43m'\u001b[39;49m\u001b[43m)\u001b[49m\n\u001b[1;32m    633\u001b[0m         \u001b[38;5;66;03m# determine whether any variables are fixed\u001b[39;00m\n\u001b[1;32m    634\u001b[0m         i_fixed \u001b[38;5;241m=\u001b[39m (bounds\u001b[38;5;241m.\u001b[39mlb \u001b[38;5;241m==\u001b[39m bounds\u001b[38;5;241m.\u001b[39mub)\n",
      "File \u001b[0;32m/opt/homebrew/lib/python3.9/site-packages/scipy/optimize/_minimize.py:925\u001b[0m, in \u001b[0;36mstandardize_bounds\u001b[0;34m(bounds, x0, meth)\u001b[0m\n\u001b[1;32m    923\u001b[0m \u001b[38;5;28;01mif\u001b[39;00m meth \u001b[38;5;129;01min\u001b[39;00m {\u001b[38;5;124m'\u001b[39m\u001b[38;5;124mtrust-constr\u001b[39m\u001b[38;5;124m'\u001b[39m, \u001b[38;5;124m'\u001b[39m\u001b[38;5;124mpowell\u001b[39m\u001b[38;5;124m'\u001b[39m, \u001b[38;5;124m'\u001b[39m\u001b[38;5;124mnelder-mead\u001b[39m\u001b[38;5;124m'\u001b[39m, \u001b[38;5;124m'\u001b[39m\u001b[38;5;124mnew\u001b[39m\u001b[38;5;124m'\u001b[39m}:\n\u001b[1;32m    924\u001b[0m     \u001b[38;5;28;01mif\u001b[39;00m \u001b[38;5;129;01mnot\u001b[39;00m \u001b[38;5;28misinstance\u001b[39m(bounds, Bounds):\n\u001b[0;32m--> 925\u001b[0m         lb, ub \u001b[38;5;241m=\u001b[39m \u001b[43mold_bound_to_new\u001b[49m\u001b[43m(\u001b[49m\u001b[43mbounds\u001b[49m\u001b[43m)\u001b[49m\n\u001b[1;32m    926\u001b[0m         bounds \u001b[38;5;241m=\u001b[39m Bounds(lb, ub)\n\u001b[1;32m    927\u001b[0m \u001b[38;5;28;01melif\u001b[39;00m meth \u001b[38;5;129;01min\u001b[39;00m (\u001b[38;5;124m'\u001b[39m\u001b[38;5;124ml-bfgs-b\u001b[39m\u001b[38;5;124m'\u001b[39m, \u001b[38;5;124m'\u001b[39m\u001b[38;5;124mtnc\u001b[39m\u001b[38;5;124m'\u001b[39m, \u001b[38;5;124m'\u001b[39m\u001b[38;5;124mslsqp\u001b[39m\u001b[38;5;124m'\u001b[39m, \u001b[38;5;124m'\u001b[39m\u001b[38;5;124mold\u001b[39m\u001b[38;5;124m'\u001b[39m):\n",
      "File \u001b[0;32m/opt/homebrew/lib/python3.9/site-packages/scipy/optimize/_constraints.py:325\u001b[0m, in \u001b[0;36mold_bound_to_new\u001b[0;34m(bounds)\u001b[0m\n\u001b[1;32m    316\u001b[0m \u001b[38;5;28;01mdef\u001b[39;00m \u001b[38;5;21mold_bound_to_new\u001b[39m(bounds):\n\u001b[1;32m    317\u001b[0m     \u001b[38;5;124;03m\"\"\"Convert the old bounds representation to the new one.\u001b[39;00m\n\u001b[1;32m    318\u001b[0m \n\u001b[1;32m    319\u001b[0m \u001b[38;5;124;03m    The new representation is a tuple (lb, ub) and the old one is a list\u001b[39;00m\n\u001b[0;32m   (...)\u001b[0m\n\u001b[1;32m    323\u001b[0m \u001b[38;5;124;03m    -np.inf/np.inf.\u001b[39;00m\n\u001b[1;32m    324\u001b[0m \u001b[38;5;124;03m    \"\"\"\u001b[39;00m\n\u001b[0;32m--> 325\u001b[0m     lb, ub \u001b[38;5;241m=\u001b[39m \u001b[38;5;28;43mzip\u001b[39;49m\u001b[43m(\u001b[49m\u001b[38;5;241;43m*\u001b[39;49m\u001b[43mbounds\u001b[49m\u001b[43m)\u001b[49m\n\u001b[1;32m    327\u001b[0m     \u001b[38;5;66;03m# Convert occurrences of None to -inf or inf, and replace occurrences of\u001b[39;00m\n\u001b[1;32m    328\u001b[0m     \u001b[38;5;66;03m# any numpy array x with x.item(). Then wrap the results in numpy arrays.\u001b[39;00m\n\u001b[1;32m    329\u001b[0m     lb \u001b[38;5;241m=\u001b[39m np\u001b[38;5;241m.\u001b[39marray([\u001b[38;5;28mfloat\u001b[39m(_arr_to_scalar(x)) \u001b[38;5;28;01mif\u001b[39;00m x \u001b[38;5;129;01mis\u001b[39;00m \u001b[38;5;129;01mnot\u001b[39;00m \u001b[38;5;28;01mNone\u001b[39;00m \u001b[38;5;28;01melse\u001b[39;00m \u001b[38;5;241m-\u001b[39mnp\u001b[38;5;241m.\u001b[39minf\n\u001b[1;32m    330\u001b[0m                    \u001b[38;5;28;01mfor\u001b[39;00m x \u001b[38;5;129;01min\u001b[39;00m lb])\n",
      "\u001b[0;31mTypeError\u001b[0m: zip() argument after * must be an iterable, not type"
     ]
    }
   ],
   "source": [
    "res_q = problem_Q(x_0)"
   ]
  },
  {
   "cell_type": "code",
   "execution_count": 56,
   "id": "46bc9e17",
   "metadata": {},
   "outputs": [
    {
     "data": {
      "text/plain": [
       "array([inf, inf, inf, inf, inf, inf, inf, inf, inf, inf, inf, inf, inf,\n",
       "       inf, inf, inf, inf, inf, inf, inf, inf, inf, inf, inf, inf, inf,\n",
       "       inf, inf, inf, inf])"
      ]
     },
     "execution_count": 56,
     "metadata": {},
     "output_type": "execute_result"
    }
   ],
   "source": []
  },
  {
   "cell_type": "code",
   "execution_count": 57,
   "id": "adf99110",
   "metadata": {},
   "outputs": [],
   "source": []
  },
  {
   "cell_type": "code",
   "execution_count": 44,
   "id": "5f8249b8",
   "metadata": {},
   "outputs": [
    {
     "name": "stdout",
     "output_type": "stream",
     "text": [
      "0.9999\n"
     ]
    }
   ],
   "source": [
    "x_1 = get_element_inM(n)\n",
    "x_0 = get_element_inM(n)\n",
    "d_1 = x_1 - x_0\n",
    "print(problem_S(x_0, d_1))"
   ]
  },
  {
   "cell_type": "markdown",
   "id": "0463c35b",
   "metadata": {},
   "source": [
    "## 2 d) Python Lösung\n",
    "Lösen Sie $P$ direkt mit Python und vergleichen Sie ihren Optimalpunkt mit dem aus Teil c). Ist dieses Ergebnis zu erwarten? Verwenden Sie Aufgabenteil b)."
   ]
  },
  {
   "cell_type": "code",
   "execution_count": null,
   "id": "b1dffe49",
   "metadata": {},
   "outputs": [],
   "source": []
  },
  {
   "cell_type": "markdown",
   "id": "762ac843",
   "metadata": {},
   "source": [
    "### Vergleich"
   ]
  },
  {
   "cell_type": "code",
   "execution_count": null,
   "id": "e5007de9",
   "metadata": {},
   "outputs": [],
   "source": []
  }
 ],
 "metadata": {
  "kernelspec": {
   "display_name": "Python 3 (ipykernel)",
   "language": "python",
   "name": "python3"
  },
  "language_info": {
   "codemirror_mode": {
    "name": "ipython",
    "version": 3
   },
   "file_extension": ".py",
   "mimetype": "text/x-python",
   "name": "python",
   "nbconvert_exporter": "python",
   "pygments_lexer": "ipython3",
   "version": "3.9.12"
  }
 },
 "nbformat": 4,
 "nbformat_minor": 5
}
