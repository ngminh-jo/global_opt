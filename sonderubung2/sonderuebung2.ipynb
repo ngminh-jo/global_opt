{
 "cells": [
  {
   "cell_type": "markdown",
   "id": "3c1ceb71",
   "metadata": {},
   "source": [
    "# Aufgabe 1\n",
    "$$LP: \\min_{x \\in \\mathbb{R}} c^{T}x \\text{ s.t } Ax \\leq b$$\n",
    "## a, \n",
    "Das Wolfe-Dual D zu LP\n",
    "\n",
    "## b, \n",
    "D mit dem zu LP dualen Problem \n",
    "$$D_{LP}: max_{\\lambda \\in \\mathbb{R}^{m}} b^{T}\\lambda \\text{ s.t } A^{T}\\lambda = c, \\lambda \\leq 0 $$ \n",
    "aus der LP-Dualitätstheorie übereinstimmt."
   ]
  }
 ],
 "metadata": {
  "kernelspec": {
   "display_name": "Python 3 (ipykernel)",
   "language": "python",
   "name": "python3"
  },
  "language_info": {
   "codemirror_mode": {
    "name": "ipython",
    "version": 3
   },
   "file_extension": ".py",
   "mimetype": "text/x-python",
   "name": "python",
   "nbconvert_exporter": "python",
   "pygments_lexer": "ipython3",
   "version": "3.9.12"
  }
 },
 "nbformat": 4,
 "nbformat_minor": 5
}
